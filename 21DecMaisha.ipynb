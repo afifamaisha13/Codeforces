{
  "nbformat": 4,
  "nbformat_minor": 0,
  "metadata": {
    "colab": {
      "provenance": [],
      "authorship_tag": "ABX9TyPlXCWvzoUu4QucqrHEwhQq",
      "include_colab_link": true
    },
    "kernelspec": {
      "name": "python3",
      "display_name": "Python 3"
    },
    "language_info": {
      "name": "python"
    }
  },
  "cells": [
    {
      "cell_type": "markdown",
      "metadata": {
        "id": "view-in-github",
        "colab_type": "text"
      },
      "source": [
        "<a href=\"https://colab.research.google.com/github/afifamaisha13/Codeforces/blob/main/21DecMaisha.ipynb\" target=\"_parent\"><img src=\"https://colab.research.google.com/assets/colab-badge.svg\" alt=\"Open In Colab\"/></a>"
      ]
    },
    {
      "cell_type": "markdown",
      "source": [],
      "metadata": {
        "id": "IpCrqjoHLE8m"
      }
    },
    {
      "cell_type": "markdown",
      "source": [
        "**Code Breakdown**"
      ],
      "metadata": {
        "id": "EMdJIUhfLHOC"
      }
    },
    {
      "cell_type": "code",
      "source": [
        "def addComplex(z1, z2):\n",
        "    return z1 + z2"
      ],
      "metadata": {
        "id": "uk8sCElQLNup"
      },
      "execution_count": null,
      "outputs": []
    },
    {
      "cell_type": "markdown",
      "source": [
        "A simple function that takes two complex numbers (z1 and z2) as input and returns their sum."
      ],
      "metadata": {
        "id": "nci29havLTc4"
      }
    },
    {
      "cell_type": "code",
      "source": [
        "li1 = [complex(_, 2 + _) for _ in range(6)]\n",
        "li2 = [complex(_, 2 + _) for _ in range(2, 14, 2)]"
      ],
      "metadata": {
        "id": "R_7rJVPILU68"
      },
      "execution_count": null,
      "outputs": []
    },
    {
      "cell_type": "markdown",
      "source": [
        "li1: Creates a list of complex numbers where:\n",
        "\n",
        "* The real part is _, ranging from 0 to 5 (as range(6) produces 0, 1, 2, 3, 4, 5).\n",
        "* The imaginary part is 2 + _.\n",
        "\n",
        "li2: Creates another list of complex numbers where:\n",
        "\n",
        "* The real part is _, ranging from 2 to 12 in steps of 2 (range(2, 14, 2) produces 2, 4, 6, 8, 10, 12).\n",
        "* The imaginary part is 2 + _.\n",
        "\n",
        "\n"
      ],
      "metadata": {
        "id": "sNpswBjKLYiS"
      }
    },
    {
      "cell_type": "code",
      "source": [
        "li3 = []\n",
        "for i, j in zip(li1, li2):\n",
        "    li3.append(addComplex(i, j))\n"
      ],
      "metadata": {
        "id": "SgcJgkdCMT5P"
      },
      "execution_count": null,
      "outputs": []
    },
    {
      "cell_type": "markdown",
      "source": [
        "\n",
        "\n",
        "* zip(li1, li2): Pairs elements from li1 and li2 element-wise (e.g., (li1[0],\n",
        "  li2[0]), (li1[1], li2[1]), etc.).\n",
        "* Iterates through each pair (i, j) from li1 and li2.\n",
        "* Calls addComplex(i, j) to compute the sum of the complex numbers i and j.\n",
        "* Appends the result to li3.\n",
        "\n",
        "\n",
        "\n"
      ],
      "metadata": {
        "id": "10A73HmAMi9R"
      }
    },
    {
      "cell_type": "code",
      "source": [
        "enc_mess = bytes(str(li3).encode('utf-16'))\n"
      ],
      "metadata": {
        "id": "k9SMG63eLwiC"
      },
      "execution_count": null,
      "outputs": []
    },
    {
      "cell_type": "markdown",
      "source": [
        "* str(li3): Converts the list li3 to a string representation (e.g., '[(2+6j), (5+10j), ...]').\n",
        "* .encode('utf-16'): Encodes the string into a utf-16 byte sequence.\n",
        "* bytes(): Converts the encoded sequence to a bytes object."
      ],
      "metadata": {
        "id": "wICkqRjZNHiK"
      }
    },
    {
      "cell_type": "code",
      "source": [
        "print(f\"Encoded Message Size of type{type(enc_mess)}: \",sys.getsizeof(enc_mess))\n",
        "print(f\"List Size of type{type(li3)}: \",sys.getsizeof(li3))\n",
        "print(f\"Encoded Message Size of type{type(str(li3))}: \",sys.getsizeof(str(li3)))\n"
      ],
      "metadata": {
        "id": "xjRXR_oJNQnp"
      },
      "execution_count": null,
      "outputs": []
    },
    {
      "cell_type": "markdown",
      "source": [
        "Purpose: Compares the memory size (sys.getsizeof) of:\n",
        "  * The bytes object (enc_mess).\n",
        "  * The list of complex numbers (li3).\n",
        "  * The string representation of li3 (str(li3))."
      ],
      "metadata": {
        "id": "--PRrwQNNV9A"
      }
    },
    {
      "cell_type": "code",
      "source": [
        "print(\"Original list after addition\", li3)\n",
        "print(f\"Encoded Message: {enc_mess}\")\n"
      ],
      "metadata": {
        "id": "xC9iy4UZNdag"
      },
      "execution_count": null,
      "outputs": []
    },
    {
      "cell_type": "markdown",
      "source": [
        "The final li3 list after the addition of complex numbers.\n",
        "\n",
        "The encoded message (enc_mess)."
      ],
      "metadata": {
        "id": "gPIdLOduNpda"
      }
    },
    {
      "cell_type": "code",
      "source": [
        "#print(bytes(str(li3), 'utf-16'))\n"
      ],
      "metadata": {
        "id": "HHCobi0cNrx-"
      },
      "execution_count": null,
      "outputs": []
    },
    {
      "cell_type": "markdown",
      "source": [
        "Would directly encode str(li3) into utf-16 as a bytes object without using .encode() explicitly."
      ],
      "metadata": {
        "id": "PyhQIKNcN9N8"
      }
    }
  ]
}